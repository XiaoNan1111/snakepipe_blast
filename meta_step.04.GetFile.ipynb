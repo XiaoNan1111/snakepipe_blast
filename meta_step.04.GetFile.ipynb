{
 "cells": [
  {
   "cell_type": "markdown",
   "id": "02b2f306-350a-49f4-8f42-d5474aaaa014",
   "metadata": {},
   "source": [
    "  # meta_step.04.GetFile_BlastAnnotation\n",
    "  ## - author:Xiao Nan\n",
    "  ## - begin date: 2024.3.4"
   ]
  },
  {
   "cell_type": "code",
   "execution_count": 42,
   "id": "9f42c377-b57b-41af-8f40-c156b988fc27",
   "metadata": {},
   "outputs": [],
   "source": [
    "import pandas as pd\n",
    "import gzip\n",
    "from Bio import SeqIO\n",
    "import os\n",
    "from tqdm.notebook import tqdm"
   ]
  },
  {
   "cell_type": "markdown",
   "id": "931e39fd-b0dc-47f0-a5d5-42c2d409e302",
   "metadata": {},
   "source": [
    "## 拆分输入的表格"
   ]
  },
  {
   "cell_type": "code",
   "execution_count": 43,
   "id": "46695cc6-da84-4d64-a5c0-23d5f8b0d6fa",
   "metadata": {},
   "outputs": [
    {
     "data": {
      "text/html": [
       "<div>\n",
       "<style scoped>\n",
       "    .dataframe tbody tr th:only-of-type {\n",
       "        vertical-align: middle;\n",
       "    }\n",
       "\n",
       "    .dataframe tbody tr th {\n",
       "        vertical-align: top;\n",
       "    }\n",
       "\n",
       "    .dataframe thead th {\n",
       "        text-align: right;\n",
       "    }\n",
       "</style>\n",
       "<table border=\"1\" class=\"dataframe\">\n",
       "  <thead>\n",
       "    <tr style=\"text-align: right;\">\n",
       "      <th></th>\n",
       "      <th>SeqRecord:rep</th>\n",
       "      <th>seq</th>\n",
       "    </tr>\n",
       "    <tr>\n",
       "      <th>rep</th>\n",
       "      <th></th>\n",
       "      <th></th>\n",
       "    </tr>\n",
       "  </thead>\n",
       "  <tbody>\n",
       "    <tr>\n",
       "      <th>mG.blast.nt_163.fna.gz_LR862147.1_9597</th>\n",
       "      <td>(M, A, D, V, V, A, S, G, V, L, S, S, L, V, D, ...</td>\n",
       "      <td>MADVVASGVLSSLVDRLRERITGEFGPVMDVGAELKKLEGTLSTIC...</td>\n",
       "    </tr>\n",
       "    <tr>\n",
       "      <th>mG.blast.nt_163.fna.gz_CP059603.1_2212</th>\n",
       "      <td>(M, T, T, A, V, T, A, R, A, H, T, N, I, A, L, ...</td>\n",
       "      <td>MTTAVTARAHTNIALVKYWGKADQHLILPETSSLSLTLDQFYTDTT...</td>\n",
       "    </tr>\n",
       "    <tr>\n",
       "      <th>mG.blast.nt_163.fna.gz_CP059603.1_2212</th>\n",
       "      <td>(M, T, T, A, V, T, A, R, A, H, T, N, I, A, L, ...</td>\n",
       "      <td>MTTAVTARAHTNIALVKYWGKADQHLILPETSSLSLTLDQFYTDTT...</td>\n",
       "    </tr>\n",
       "    <tr>\n",
       "      <th>mG.blast.nt_163.fna.gz_CP059603.1_2212</th>\n",
       "      <td>(M, T, T, A, V, T, A, R, A, H, T, N, I, A, L, ...</td>\n",
       "      <td>MTTAVTARAHTNIALVKYWGKADQHLILPETSSLSLTLDQFYTDTT...</td>\n",
       "    </tr>\n",
       "    <tr>\n",
       "      <th>mG.blast.nt_163.fna.gz_CP059603.1_2212</th>\n",
       "      <td>(M, T, T, A, V, T, A, R, A, H, T, N, I, A, L, ...</td>\n",
       "      <td>MTTAVTARAHTNIALVKYWGKADQHLILPETSSLSLTLDQFYTDTT...</td>\n",
       "    </tr>\n",
       "  </tbody>\n",
       "</table>\n",
       "</div>"
      ],
      "text/plain": [
       "                                                                            SeqRecord:rep   \n",
       "rep                                                                                         \n",
       "mG.blast.nt_163.fna.gz_LR862147.1_9597  (M, A, D, V, V, A, S, G, V, L, S, S, L, V, D, ...  \\\n",
       "mG.blast.nt_163.fna.gz_CP059603.1_2212  (M, T, T, A, V, T, A, R, A, H, T, N, I, A, L, ...   \n",
       "mG.blast.nt_163.fna.gz_CP059603.1_2212  (M, T, T, A, V, T, A, R, A, H, T, N, I, A, L, ...   \n",
       "mG.blast.nt_163.fna.gz_CP059603.1_2212  (M, T, T, A, V, T, A, R, A, H, T, N, I, A, L, ...   \n",
       "mG.blast.nt_163.fna.gz_CP059603.1_2212  (M, T, T, A, V, T, A, R, A, H, T, N, I, A, L, ...   \n",
       "\n",
       "                                                                                      seq  \n",
       "rep                                                                                        \n",
       "mG.blast.nt_163.fna.gz_LR862147.1_9597  MADVVASGVLSSLVDRLRERITGEFGPVMDVGAELKKLEGTLSTIC...  \n",
       "mG.blast.nt_163.fna.gz_CP059603.1_2212  MTTAVTARAHTNIALVKYWGKADQHLILPETSSLSLTLDQFYTDTT...  \n",
       "mG.blast.nt_163.fna.gz_CP059603.1_2212  MTTAVTARAHTNIALVKYWGKADQHLILPETSSLSLTLDQFYTDTT...  \n",
       "mG.blast.nt_163.fna.gz_CP059603.1_2212  MTTAVTARAHTNIALVKYWGKADQHLILPETSSLSLTLDQFYTDTT...  \n",
       "mG.blast.nt_163.fna.gz_CP059603.1_2212  MTTAVTARAHTNIALVKYWGKADQHLILPETSSLSLTLDQFYTDTT...  "
      ]
     },
     "execution_count": 43,
     "metadata": {},
     "output_type": "execute_result"
    }
   ],
   "source": [
    "# set_option()\n",
    "df_seqs_rep = pd.read_pickle('../blast_info/df_seqs_rep.pkl.gz')\n",
    "df_seqs_rep.head(5)"
   ]
  },
  {
   "cell_type": "code",
   "execution_count": 44,
   "id": "e6994c11-7d7c-4202-b971-5a3f38051475",
   "metadata": {},
   "outputs": [
    {
     "name": "stdout",
     "output_type": "stream",
     "text": [
      "mG.blast.nt_163.fna.gz_LR862147.1_9597\n",
      "mG.blast.nt_163.fna.gz_LR862147.1_9597 assembly_id@mG.blast.nt_163.fna.gz;contig_id@LR862147.1;CDS_id@mG.blast.nt_163.fna.gz_LR862147.1_9597;CDS_start@10545777;CDS_end@10546967;CDS_predict_score@84.1;CDS_strand@+;CDS_phase@0;Predigal_info@ID=9597|partial=00|start_type=ATG|rbs_motif=None|rbs_spacer=None|gc_cont=0.460|conf=100.00|score=84.13|cscore=88.20|sscore=-4.07|rscore=0.00|uscore=-4.60|tscore=0.53;crispr_id@mG.blast.nt_163.fna.gz+LR862147.1+4;crispr_start@10553263;crispr_end@10553435;crispr_extend_start@10533263;crispr_extend_end@10573435;repeat_seq@GGCCCGGCCCGGCACGGCCC;n_copies@3;n_repeats@20;n_spacers@55;overlapped_base_count@1190 ID=1_9597;partial=00;start_type=ATG;rbs_motif=None;rbs_spacer=None;gc_cont=0.460;HEPN-1@[span=(219, 225),target=RQISDH];HEPN-count@1\n",
      "MADVVASGVLSSLVDRLRERITGEFGPVMDVGAELKKLEGTLSTICDVLEDAEGRQVRERALRGWLGRLKDVAYDIDDLLDEHFAKNWKRSLTDPESSTTSWMKGTVSKVLSLPNSVMFQLKIAREIREIRERLDELAEERSKFHLQERCVVTCCRLENVVREETSSFVIESEVYGREEDKKKIVEFLVDTSGGDLGIIAIVGMGGLGKTTLAQLVYNDRQISDHFEKRIWVCVSDDFDHKRLVRSIIEHTTGNACDLTSMVSMQSKLKQELEKKIFLLVLDDVWNENYEKWDKFRTLLTIGATESKIIVTTRSSRVASVMAMVEPHFLKTLSEDDCWRSLEIGAIEKTANLVTIGKEIVKKCGGVPLAAKVLGSLMRSKRREREWLAVRTMIVGS*\n"
     ]
    }
   ],
   "source": [
    "for cas in df_seqs_rep[\"SeqRecord:rep\"].tolist():\n",
    "    print(cas.id)\n",
    "    print(cas.description)\n",
    "    print(cas.seq)\n",
    "    break"
   ]
  },
  {
   "cell_type": "code",
   "execution_count": 45,
   "id": "93a3a324-a24e-482e-a491-7cd3b90afe70",
   "metadata": {},
   "outputs": [
    {
     "data": {
      "text/plain": [
       "(1084270, 2)"
      ]
     },
     "execution_count": 45,
     "metadata": {},
     "output_type": "execute_result"
    }
   ],
   "source": [
    "df_seqs_rep.shape"
   ]
  },
  {
   "cell_type": "code",
   "execution_count": 46,
   "id": "5d0a9d1f-e13d-43d2-beaa-a142339f9432",
   "metadata": {},
   "outputs": [],
   "source": [
    "df_seqs_rep = df_seqs_rep.reset_index()"
   ]
  },
  {
   "cell_type": "code",
   "execution_count": 47,
   "id": "51b59637-48e7-483e-9ed3-31bc83829b27",
   "metadata": {},
   "outputs": [
    {
     "name": "stdout",
     "output_type": "stream",
     "text": [
      "去重结束\n"
     ]
    }
   ],
   "source": [
    "df_seqs_rep.drop_duplicates(subset='rep', inplace=True)\n",
    "print(\"去重结束\")"
   ]
  },
  {
   "cell_type": "code",
   "execution_count": 48,
   "id": "4f079114-91a0-4997-819c-06417059f9a3",
   "metadata": {},
   "outputs": [
    {
     "data": {
      "text/plain": [
       "(226983, 3)"
      ]
     },
     "execution_count": 48,
     "metadata": {},
     "output_type": "execute_result"
    }
   ],
   "source": [
    "df_seqs_rep.shape"
   ]
  },
  {
   "cell_type": "code",
   "execution_count": 49,
   "id": "a9df290a-c0a8-4733-a7d8-bcb2cefac90f",
   "metadata": {},
   "outputs": [
    {
     "data": {
      "text/plain": [
       "226.983"
      ]
     },
     "execution_count": 49,
     "metadata": {},
     "output_type": "execute_result"
    }
   ],
   "source": [
    "226983/1000"
   ]
  },
  {
   "cell_type": "markdown",
   "id": "7af2466d-40dd-435d-9ea1-45de92c4d09e",
   "metadata": {},
   "source": [
    "## 进行拆分"
   ]
  },
  {
   "cell_type": "code",
   "execution_count": 53,
   "id": "7747676e-cd84-4d01-85c4-970f784d22bc",
   "metadata": {},
   "outputs": [],
   "source": [
    "# 创建临时储存的文件夹\n",
    "temp = \"../blast_info/fasta_split_1000\"\n",
    "os.makedirs(temp, exist_ok=True)"
   ]
  },
  {
   "cell_type": "code",
   "execution_count": 54,
   "id": "72b7f3c5-d421-45ff-b386-04bf1b8ca6db",
   "metadata": {},
   "outputs": [
    {
     "data": {
      "application/vnd.jupyter.widget-view+json": {
       "model_id": "52e9ac973488420191fed962aa0bb8ca",
       "version_major": 2,
       "version_minor": 0
      },
      "text/plain": [
       "  0%|          | 0/226983 [00:00<?, ?it/s]"
      ]
     },
     "metadata": {},
     "output_type": "display_data"
    },
    {
     "name": "stdout",
     "output_type": "stream",
     "text": [
      "处理完成\n"
     ]
    }
   ],
   "source": [
    "# 初始化计数器和批次号\n",
    "counter = 0\n",
    "batch_number = 1 # 用于给filename命名\n",
    "contigs_in_batch = []  # 存储当前批次的contigs\n",
    "\n",
    "for contig in tqdm(df_seqs_rep[\"SeqRecord:rep\"].tolist()):\n",
    "    # 添加contig到当前批次\n",
    "    contigs_in_batch.append(contig)\n",
    "    counter += 1\n",
    "    # if counter == 5:\n",
    "    #     print(contigs_in_batch)\n",
    "    #     filename = f\"{temp}/test.fasta\"\n",
    "    #     with gzip.open(filename, 'wt') if filename.endswith(\".gz\") else open(filename, 'wt') as handler_out:\n",
    "    #         SeqIO.write(contigs_in_batch, handler_out, \"fasta\")\n",
    "    #     break\n",
    "    # 检查是否达到1000个序列或已经是最后一个序列\n",
    "    if counter % 1000 == 0 or counter == len(df_seqs_rep[\"SeqRecord:rep\"].tolist()):\n",
    "        # 定义批次文件名\n",
    "        filename = f\"{temp}/batch_{batch_number}.fasta\"\n",
    "        with gzip.open(filename, 'wt') if filename.endswith(\".gz\") else open(filename, 'wt') as handler_out:\n",
    "            SeqIO.write(contigs_in_batch, handler_out, \"fasta\")\n",
    "        # 重置批次存储并更新批次号\n",
    "        contigs_in_batch = []\n",
    "        batch_number += 1\n",
    "\n",
    "print(\"处理完成\")"
   ]
  },
  {
   "cell_type": "code",
   "execution_count": 50,
   "id": "aa741fc7-d83c-4dbf-8300-208d60b26fb8",
   "metadata": {},
   "outputs": [],
   "source": [
    "# for contig in tqdm(df_seqs_rep[\"SeqRecord:rep\"].tolist()):\n",
    "#     # print(contig.id)\n",
    "#     # print(contig.seq)\n",
    "#     contig_id = contig.id\n",
    "#     filename = f\"{temp}/{contig_id}.fasta\"\n",
    "#     # 检查文件是否存在\n",
    "#     if os.path.exists(filename):\n",
    "#         # print(f\"{filename} exists , skip ......\")\n",
    "#         continue\n",
    "#     # print(filename)\n",
    "#     handler_out = gzip.open(filename, 'wt') if filename.endswith(\".gz\") else open(filename, 'wt')\n",
    "#     SeqIO.write(contig, handler_out, \"fasta\")\n",
    "\n",
    "\n",
    "\n",
    "# handler.close()\n",
    "# handler_out.close()\n",
    "# print(\"ok\")"
   ]
  },
  {
   "cell_type": "code",
   "execution_count": 51,
   "id": "145ed2dc-679a-4a70-ba7b-8a6c3cac0e27",
   "metadata": {},
   "outputs": [],
   "source": [
    "# 顺序处理：通过简单地遍历 df_seqs_rep[\"SeqRecord:rep\"].tolist()，每个蛋白序列按顺序被处理。这确保了不会跳过任何项，因为每个项都会按顺序遍历一次。"
   ]
  }
 ],
 "metadata": {
  "kernelspec": {
   "display_name": "Python 3 (ipykernel)",
   "language": "python",
   "name": "python3"
  },
  "language_info": {
   "codemirror_mode": {
    "name": "ipython",
    "version": 3
   },
   "file_extension": ".py",
   "mimetype": "text/x-python",
   "name": "python",
   "nbconvert_exporter": "python",
   "pygments_lexer": "ipython3",
   "version": "3.10.11"
  },
  "widgets": {
   "application/vnd.jupyter.widget-state+json": {
    "state": {
     "17c121b8932944249be99197148b50d3": {
      "model_module": "@jupyter-widgets/base",
      "model_module_version": "2.0.0",
      "model_name": "LayoutModel",
      "state": {}
     },
     "4f4a7749bc8040e7bdd15f8507f0a941": {
      "model_module": "@jupyter-widgets/base",
      "model_module_version": "2.0.0",
      "model_name": "LayoutModel",
      "state": {}
     },
     "543186c660754cc280b6c112a4ebacdf": {
      "model_module": "@jupyter-widgets/controls",
      "model_module_version": "2.0.0",
      "model_name": "FloatProgressModel",
      "state": {
       "bar_style": "success",
       "layout": "IPY_MODEL_fd374342d6504f1cb328f80be63e8199",
       "max": 226551,
       "style": "IPY_MODEL_759c01a8e460464bbee5c993fc9fb3de",
       "value": 226551
      }
     },
     "759c01a8e460464bbee5c993fc9fb3de": {
      "model_module": "@jupyter-widgets/controls",
      "model_module_version": "2.0.0",
      "model_name": "ProgressStyleModel",
      "state": {
       "description_width": ""
      }
     },
     "97f763ca8c074118b44bbb806df45cb6": {
      "model_module": "@jupyter-widgets/controls",
      "model_module_version": "2.0.0",
      "model_name": "HTMLStyleModel",
      "state": {
       "description_width": "",
       "font_size": null,
       "text_color": null
      }
     },
     "b789efc5c2f243b1bc1358bd30721aed": {
      "model_module": "@jupyter-widgets/base",
      "model_module_version": "2.0.0",
      "model_name": "LayoutModel",
      "state": {}
     },
     "ba75834ed839460baf780e433b3406cf": {
      "model_module": "@jupyter-widgets/controls",
      "model_module_version": "2.0.0",
      "model_name": "HTMLModel",
      "state": {
       "layout": "IPY_MODEL_17c121b8932944249be99197148b50d3",
       "style": "IPY_MODEL_bf327077451343d3bc13be73137a9efd",
       "value": " 226551/226551 [00:04&lt;00:00, 51187.00it/s]"
      }
     },
     "bf327077451343d3bc13be73137a9efd": {
      "model_module": "@jupyter-widgets/controls",
      "model_module_version": "2.0.0",
      "model_name": "HTMLStyleModel",
      "state": {
       "description_width": "",
       "font_size": null,
       "text_color": null
      }
     },
     "c02adc951506491182583dd8d821a0a0": {
      "model_module": "@jupyter-widgets/controls",
      "model_module_version": "2.0.0",
      "model_name": "HBoxModel",
      "state": {
       "children": [
        "IPY_MODEL_f7c08583d3614dea929a21aa7bb9b774",
        "IPY_MODEL_543186c660754cc280b6c112a4ebacdf",
        "IPY_MODEL_ba75834ed839460baf780e433b3406cf"
       ],
       "layout": "IPY_MODEL_4f4a7749bc8040e7bdd15f8507f0a941"
      }
     },
     "f7c08583d3614dea929a21aa7bb9b774": {
      "model_module": "@jupyter-widgets/controls",
      "model_module_version": "2.0.0",
      "model_name": "HTMLModel",
      "state": {
       "layout": "IPY_MODEL_b789efc5c2f243b1bc1358bd30721aed",
       "style": "IPY_MODEL_97f763ca8c074118b44bbb806df45cb6",
       "value": "100%"
      }
     },
     "fd374342d6504f1cb328f80be63e8199": {
      "model_module": "@jupyter-widgets/base",
      "model_module_version": "2.0.0",
      "model_name": "LayoutModel",
      "state": {}
     }
    },
    "version_major": 2,
    "version_minor": 0
   }
  }
 },
 "nbformat": 4,
 "nbformat_minor": 5
}
