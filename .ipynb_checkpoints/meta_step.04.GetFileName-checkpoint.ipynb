{
 "cells": [
  {
   "cell_type": "markdown",
   "metadata": {
    "tags": []
   },
   "source": [
    "# Meta part"
   ]
  },
  {
   "cell_type": "code",
   "execution_count": 15,
   "metadata": {
    "execution": {
     "iopub.execute_input": "2024-03-06T05:46:01.103839Z",
     "iopub.status.busy": "2024-03-06T05:46:01.103582Z",
     "iopub.status.idle": "2024-03-06T05:46:01.110388Z",
     "shell.execute_reply": "2024-03-06T05:46:01.109800Z",
     "shell.execute_reply.started": "2024-03-06T05:46:01.103821Z"
    },
    "tags": []
   },
   "outputs": [
    {
     "data": {
      "text/plain": [
       "'/lustre3/chengqiyi_pkuhpc/folder_for_learning/zhaohn'"
      ]
     },
     "execution_count": 15,
     "metadata": {},
     "output_type": "execute_result"
    }
   ],
   "source": [
    "import json\n",
    "from glob import glob\n",
    "from bioat.lib.libpath import HOME\n",
    "HOME"
   ]
  },
  {
   "cell_type": "markdown",
   "metadata": {},
   "source": [
    "## 参数设置"
   ]
  },
  {
   "cell_type": "code",
   "execution_count": 16,
   "metadata": {
    "execution": {
     "iopub.execute_input": "2024-03-06T05:46:01.116682Z",
     "iopub.status.busy": "2024-03-06T05:46:01.116513Z",
     "iopub.status.idle": "2024-03-06T05:46:01.665327Z",
     "shell.execute_reply": "2024-03-06T05:46:01.664635Z",
     "shell.execute_reply.started": "2024-03-06T05:46:01.116666Z"
    },
    "tags": []
   },
   "outputs": [],
   "source": [
    "THREADS=2\n",
    "# DATABASE='JGI'\n",
    "DATABASE='SELF_ASSEMBLY'\n",
    "# DATABASE='blast'\n",
    "\n",
    "TEST = False\n",
    "\n",
    "\n",
    "\n",
    "# /lustre3/chengqiyi_pkuhpc/folder_for_learning/zhaohn/3.project/2023_Cas-mining_topic/blast/to_fasta"
   ]
  },
  {
   "cell_type": "code",
   "execution_count": 17,
   "metadata": {
    "execution": {
     "iopub.execute_input": "2024-03-06T05:46:03.897662Z",
     "iopub.status.busy": "2024-03-06T05:46:03.897120Z",
     "iopub.status.idle": "2024-03-06T05:46:04.231958Z",
     "shell.execute_reply": "2024-03-06T05:46:04.231469Z",
     "shell.execute_reply.started": "2024-03-06T05:46:03.897643Z"
    }
   },
   "outputs": [
    {
     "name": "stdout",
     "output_type": "stream",
     "text": [
      "['100975_00', '100975_01', '100975_02']\n",
      "39617\n",
      "['101042_00', '101043_00', '101043_01']\n",
      "8695\n"
     ]
    }
   ],
   "source": [
    "rm_list_g = []\n",
    "rm_list_t = []\n",
    "\n",
    "rm_list_g = sorted([i.split('/')[-1].split('.')[2] for i in glob(\"../seq_mining/candidate_cas13/mG.*.faa\")])\n",
    "rm_list_t = sorted([i.split('/')[-1].split('.')[2] for i in glob(\"../seq_mining/candidate_cas13/mT.*.faa\")])\n",
    "print(rm_list_g[:3])\n",
    "print(len(rm_list_g))\n",
    "print(rm_list_t[:3])\n",
    "print(len(rm_list_t))"
   ]
  },
  {
   "cell_type": "code",
   "execution_count": 18,
   "metadata": {
    "execution": {
     "iopub.execute_input": "2024-03-06T05:46:04.442245Z",
     "iopub.status.busy": "2024-03-06T05:46:04.441937Z",
     "iopub.status.idle": "2024-03-06T05:46:04.444709Z",
     "shell.execute_reply": "2024-03-06T05:46:04.444212Z",
     "shell.execute_reply.started": "2024-03-06T05:46:04.442225Z"
    }
   },
   "outputs": [],
   "source": [
    "# [i for i in rm_list_g if 'nt' in i]"
   ]
  },
  {
   "cell_type": "markdown",
   "metadata": {},
   "source": [
    "## 生成samples.json"
   ]
  },
  {
   "cell_type": "markdown",
   "metadata": {},
   "source": [
    "### MetaGenomeFull"
   ]
  },
  {
   "cell_type": "code",
   "execution_count": 19,
   "metadata": {
    "execution": {
     "iopub.execute_input": "2024-03-06T05:46:09.101076Z",
     "iopub.status.busy": "2024-03-06T05:46:09.100646Z",
     "iopub.status.idle": "2024-03-06T05:46:09.108791Z",
     "shell.execute_reply": "2024-03-06T05:46:09.108217Z",
     "shell.execute_reply.started": "2024-03-06T05:46:09.101041Z"
    }
   },
   "outputs": [
    {
     "name": "stdout",
     "output_type": "stream",
     "text": [
      "1557\n"
     ]
    }
   ],
   "source": [
    "ls_metag = []\n",
    "\n",
    "if not TEST:\n",
    "    # ⭐️ add full assemblies downloaded from JGI metagenome database\n",
    "    ls_metag.extend(sorted(glob(f\"../meta/{DATABASE}/metagenome/*.fna.gz\")))\n",
    "    ls_metag = [i for i in ls_metag if not i.startswith('test_')]\n",
    "print(len(ls_metag))"
   ]
  },
  {
   "cell_type": "code",
   "execution_count": 20,
   "metadata": {
    "execution": {
     "iopub.execute_input": "2024-03-06T05:46:11.350949Z",
     "iopub.status.busy": "2024-03-06T05:46:11.350602Z",
     "iopub.status.idle": "2024-03-06T05:46:11.989880Z",
     "shell.execute_reply": "2024-03-06T05:46:11.989401Z",
     "shell.execute_reply.started": "2024-03-06T05:46:11.350929Z"
    }
   },
   "outputs": [
    {
     "name": "stdout",
     "output_type": "stream",
     "text": [
      "11\n"
     ]
    },
    {
     "data": {
      "text/plain": [
       "['PacBio_PRJNA507739_00',\n",
       " 'PacBio_PRJNA507739_01',\n",
       " 'PacBio_PRJNA507739_02',\n",
       " 'PacBio_PRJNA507739_03',\n",
       " 'PacBio_PRJNA507739_04',\n",
       " 'PacBio_PRJNA507739_05',\n",
       " 'PacBio_PRJNA507739_06',\n",
       " 'PacBio_PRJNA507739_07',\n",
       " 'PacBio_PRJNA507739_08',\n",
       " 'PacBio_PRJNA507739_09',\n",
       " 'PacBio_PRJNA507739_10']"
      ]
     },
     "execution_count": 20,
     "metadata": {},
     "output_type": "execute_result"
    }
   ],
   "source": [
    "ls_metag = [i.split('/')[-1].replace('.assembled.fna.gz', '') for i in ls_metag]\n",
    "ls_metag = [i for i in ls_metag if i not in rm_list_g]\n",
    "print(len(ls_metag))\n",
    "ls_metag[:10]\n",
    "ls_metag[:]"
   ]
  },
  {
   "cell_type": "markdown",
   "metadata": {},
   "source": [
    "### MetaGenomeFull + Test (Positive Control)"
   ]
  },
  {
   "cell_type": "code",
   "execution_count": 21,
   "metadata": {
    "execution": {
     "iopub.execute_input": "2024-03-06T05:46:18.284590Z",
     "iopub.status.busy": "2024-03-06T05:46:18.284264Z",
     "iopub.status.idle": "2024-03-06T05:46:18.288914Z",
     "shell.execute_reply": "2024-03-06T05:46:18.288349Z",
     "shell.execute_reply.started": "2024-03-06T05:46:18.284571Z"
    }
   },
   "outputs": [
    {
     "data": {
      "text/plain": [
       "[]"
      ]
     },
     "execution_count": 21,
     "metadata": {},
     "output_type": "execute_result"
    }
   ],
   "source": [
    "# ⭐️ add Positive Control assemblies from Yang Hui, Nature Methods, Cas13X / Y\n",
    "ls_metag_test = []\n",
    "if TEST:\n",
    "    ls_metag_test.extend(sorted(glob(f\"../meta/{DATABASE}/metagenome/test*.assembled.fna.gz\")))\n",
    "ls_metag_test"
   ]
  },
  {
   "cell_type": "code",
   "execution_count": 22,
   "metadata": {
    "execution": {
     "iopub.execute_input": "2024-03-06T05:46:18.291047Z",
     "iopub.status.busy": "2024-03-06T05:46:18.290820Z",
     "iopub.status.idle": "2024-03-06T05:46:18.312858Z",
     "shell.execute_reply": "2024-03-06T05:46:18.312359Z",
     "shell.execute_reply.started": "2024-03-06T05:46:18.291031Z"
    }
   },
   "outputs": [
    {
     "data": {
      "text/plain": [
       "[]"
      ]
     },
     "execution_count": 22,
     "metadata": {},
     "output_type": "execute_result"
    }
   ],
   "source": [
    "ls_metag_test = [i.split('/')[-1].replace('.assembled.fna.gz', '') for i in ls_metag_test]\n",
    "ls_metag_test"
   ]
  },
  {
   "cell_type": "code",
   "execution_count": 23,
   "metadata": {
    "execution": {
     "iopub.execute_input": "2024-03-06T05:46:18.864025Z",
     "iopub.status.busy": "2024-03-06T05:46:18.863707Z",
     "iopub.status.idle": "2024-03-06T05:46:18.868449Z",
     "shell.execute_reply": "2024-03-06T05:46:18.867955Z",
     "shell.execute_reply.started": "2024-03-06T05:46:18.864006Z"
    }
   },
   "outputs": [
    {
     "name": "stdout",
     "output_type": "stream",
     "text": [
      "11\n"
     ]
    },
    {
     "data": {
      "text/plain": [
       "['PacBio_PRJNA507739_00',\n",
       " 'PacBio_PRJNA507739_01',\n",
       " 'PacBio_PRJNA507739_02',\n",
       " 'PacBio_PRJNA507739_03',\n",
       " 'PacBio_PRJNA507739_04',\n",
       " 'PacBio_PRJNA507739_05',\n",
       " 'PacBio_PRJNA507739_06',\n",
       " 'PacBio_PRJNA507739_07',\n",
       " 'PacBio_PRJNA507739_08',\n",
       " 'PacBio_PRJNA507739_09']"
      ]
     },
     "execution_count": 23,
     "metadata": {},
     "output_type": "execute_result"
    }
   ],
   "source": [
    "# add Positive Control\n",
    "ls_metag_test.extend(ls_metag)\n",
    "ls_metag = ls_metag_test\n",
    "print(len(ls_metag))\n",
    "ls_metag[:10]"
   ]
  },
  {
   "cell_type": "markdown",
   "metadata": {},
   "source": [
    "### MetaTranscriptome"
   ]
  },
  {
   "cell_type": "code",
   "execution_count": 24,
   "metadata": {
    "execution": {
     "iopub.execute_input": "2024-03-06T05:46:21.206179Z",
     "iopub.status.busy": "2024-03-06T05:46:21.205850Z",
     "iopub.status.idle": "2024-03-06T05:46:21.209977Z",
     "shell.execute_reply": "2024-03-06T05:46:21.209453Z",
     "shell.execute_reply.started": "2024-03-06T05:46:21.206161Z"
    }
   },
   "outputs": [
    {
     "name": "stdout",
     "output_type": "stream",
     "text": [
      "0\n"
     ]
    }
   ],
   "source": [
    "ls_metat = []\n",
    "\n",
    "if not TEST:\n",
    "    # ⭐️ add full assemblies downloaded from JGI metagenome database\n",
    "    ls_metat.extend(sorted(glob(f\"../meta/{DATABASE}/metatranscriptome/*.fna.gz\")))\n",
    "\n",
    "print(len(ls_metat))"
   ]
  },
  {
   "cell_type": "code",
   "execution_count": 25,
   "metadata": {
    "execution": {
     "iopub.execute_input": "2024-03-06T05:46:23.745221Z",
     "iopub.status.busy": "2024-03-06T05:46:23.744755Z",
     "iopub.status.idle": "2024-03-06T05:46:23.751548Z",
     "shell.execute_reply": "2024-03-06T05:46:23.750918Z",
     "shell.execute_reply.started": "2024-03-06T05:46:23.745176Z"
    }
   },
   "outputs": [
    {
     "name": "stdout",
     "output_type": "stream",
     "text": [
      "0\n"
     ]
    },
    {
     "data": {
      "text/plain": [
       "[]"
      ]
     },
     "execution_count": 25,
     "metadata": {},
     "output_type": "execute_result"
    }
   ],
   "source": [
    "ls_metat = [i.split('/')[-1].replace('.assembled.fna.gz', '') for i in ls_metat]\n",
    "ls_metat = [i for i in ls_metat if i not in rm_list_t]\n",
    "print(len(ls_metat))\n",
    "ls_metat[:10]"
   ]
  },
  {
   "cell_type": "code",
   "execution_count": 26,
   "metadata": {
    "execution": {
     "iopub.execute_input": "2024-03-06T05:46:23.754827Z",
     "iopub.status.busy": "2024-03-06T05:46:23.754494Z",
     "iopub.status.idle": "2024-03-06T05:46:23.781801Z",
     "shell.execute_reply": "2024-03-06T05:46:23.781107Z",
     "shell.execute_reply.started": "2024-03-06T05:46:23.754798Z"
    },
    "tags": []
   },
   "outputs": [],
   "source": [
    "dt = {\n",
    "    \"MetaG\": ls_metag,\n",
    "    'MetaT': ls_metat,\n",
    "    # \"MetaG\": ls_metag[:100],  # for test\n",
    "    # 'MetaT': ls_metat[:3000],  # for test\n",
    "    'THREADS': THREADS,\n",
    "    'DATABASE': DATABASE\n",
    "}\n",
    "# dt"
   ]
  },
  {
   "cell_type": "code",
   "execution_count": 27,
   "metadata": {
    "execution": {
     "iopub.execute_input": "2024-03-06T05:46:24.242240Z",
     "iopub.status.busy": "2024-03-06T05:46:24.241445Z",
     "iopub.status.idle": "2024-03-06T05:46:24.248563Z",
     "shell.execute_reply": "2024-03-06T05:46:24.247746Z",
     "shell.execute_reply.started": "2024-03-06T05:46:24.242198Z"
    },
    "tags": []
   },
   "outputs": [
    {
     "name": "stdout",
     "output_type": "stream",
     "text": [
      "Success execute\n"
     ]
    }
   ],
   "source": [
    "with open(\"./meta_step.02.json\", \"wt\") as f:\n",
    "    f.write(json.dumps(dt))\n",
    "    print(\"Success execute\")"
   ]
  },
  {
   "cell_type": "code",
   "execution_count": 28,
   "metadata": {
    "execution": {
     "iopub.execute_input": "2024-03-06T05:46:26.775439Z",
     "iopub.status.busy": "2024-03-06T05:46:26.775141Z",
     "iopub.status.idle": "2024-03-06T05:46:26.778432Z",
     "shell.execute_reply": "2024-03-06T05:46:26.777928Z",
     "shell.execute_reply.started": "2024-03-06T05:46:26.775418Z"
    }
   },
   "outputs": [],
   "source": [
    "# temp use\n",
    "# for i in ls_metag:\n",
    "#     print(f'mv {i}.assembled.fna.gz bigfile')\n",
    "\n",
    "# for i in ls_metat:\n",
    "#     print(f'mv {i}.assembled.fna.gz bigfile')\n",
    "\n",
    "# temp use\n",
    "# for i in ls_metag:\n",
    "#     print(f'mv {i}.assembled.fna.gz mining_failed')\n",
    "\n",
    "# for i in ls_metat:\n",
    "#     print(f'mv {i}.assembled.fna.gz mining_failed')"
   ]
  },
  {
   "cell_type": "code",
   "execution_count": null,
   "metadata": {},
   "outputs": [],
   "source": []
  },
  {
   "cell_type": "code",
   "execution_count": null,
   "metadata": {},
   "outputs": [],
   "source": []
  }
 ],
 "metadata": {
  "kernelspec": {
   "display_name": "Python 3 (ipykernel)",
   "language": "python",
   "name": "python3"
  },
  "language_info": {
   "codemirror_mode": {
    "name": "ipython",
    "version": 3
   },
   "file_extension": ".py",
   "mimetype": "text/x-python",
   "name": "python",
   "nbconvert_exporter": "python",
   "pygments_lexer": "ipython3",
   "version": "3.10.11"
  },
  "widgets": {
   "application/vnd.jupyter.widget-state+json": {
    "state": {},
    "version_major": 2,
    "version_minor": 0
   }
  }
 },
 "nbformat": 4,
 "nbformat_minor": 4
}
