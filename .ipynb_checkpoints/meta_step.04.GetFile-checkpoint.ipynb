{
 "cells": [
  {
   "cell_type": "markdown",
   "id": "02b2f306-350a-49f4-8f42-d5474aaaa014",
   "metadata": {},
   "source": [
    "  # meta_step.04.GetFileName_BlastAnnotation\n",
    "  ## - author:Xiao Nan\n",
    "  ## - begin date: 2024.3.4"
   ]
  },
  {
   "cell_type": "code",
   "execution_count": 1,
   "id": "9f42c377-b57b-41af-8f40-c156b988fc27",
   "metadata": {
    "execution": {
     "iopub.execute_input": "2024-03-08T14:21:29.764767Z",
     "iopub.status.busy": "2024-03-08T14:21:29.764490Z",
     "iopub.status.idle": "2024-03-08T14:21:31.820776Z",
     "shell.execute_reply": "2024-03-08T14:21:31.819965Z",
     "shell.execute_reply.started": "2024-03-08T14:21:29.764737Z"
    }
   },
   "outputs": [],
   "source": [
    "import pandas as pd\n",
    "import gzip\n",
    "from Bio import SeqIO\n",
    "import os\n",
    "from bioat.lib.libpandas import set_option\n",
    "from tqdm.notebook import tqdm"
   ]
  },
  {
   "cell_type": "markdown",
   "id": "931e39fd-b0dc-47f0-a5d5-42c2d409e302",
   "metadata": {},
   "source": [
    "## 拆分输入的表格"
   ]
  },
  {
   "cell_type": "code",
   "execution_count": 2,
   "id": "46695cc6-da84-4d64-a5c0-23d5f8b0d6fa",
   "metadata": {
    "execution": {
     "iopub.execute_input": "2024-03-08T14:21:31.822436Z",
     "iopub.status.busy": "2024-03-08T14:21:31.821939Z",
     "iopub.status.idle": "2024-03-08T14:21:39.482128Z",
     "shell.execute_reply": "2024-03-08T14:21:39.481301Z",
     "shell.execute_reply.started": "2024-03-08T14:21:31.822413Z"
    }
   },
   "outputs": [
    {
     "data": {
      "text/html": [
       "<div>\n",
       "<style scoped>\n",
       "    .dataframe tbody tr th:only-of-type {\n",
       "        vertical-align: middle;\n",
       "    }\n",
       "\n",
       "    .dataframe tbody tr th {\n",
       "        vertical-align: top;\n",
       "    }\n",
       "\n",
       "    .dataframe thead th {\n",
       "        text-align: right;\n",
       "    }\n",
       "</style>\n",
       "<table border=\"1\" class=\"dataframe\">\n",
       "  <thead>\n",
       "    <tr style=\"text-align: right;\">\n",
       "      <th></th>\n",
       "      <th>SeqRecord:rep</th>\n",
       "      <th>seq</th>\n",
       "    </tr>\n",
       "    <tr>\n",
       "      <th>rep</th>\n",
       "      <th></th>\n",
       "      <th></th>\n",
       "    </tr>\n",
       "  </thead>\n",
       "  <tbody>\n",
       "    <tr>\n",
       "      <th>mG.JGI.198659_00.fna.gz_Ga0311332_10001683_3</th>\n",
       "      <td>(M, P, P, A, P, H, P, I, P, G, R, A, Q, S, F, ...</td>\n",
       "      <td>MPPAPHPIPGRAQSFHPHATPRGDRVTIRWRAGAWTIRGGVDGQPA...</td>\n",
       "    </tr>\n",
       "    <tr>\n",
       "      <th>mG.JGI.198659_00.fna.gz_Ga0311332_10001683_3</th>\n",
       "      <td>(M, P, P, A, P, H, P, I, P, G, R, A, Q, S, F, ...</td>\n",
       "      <td>MPPAPHPIPGRAQSFHPHATPRGDRVTIRWRAGAWTIRGGVDGQPA...</td>\n",
       "    </tr>\n",
       "    <tr>\n",
       "      <th>mG.JGI.198659_00.fna.gz_Ga0311332_10001683_3</th>\n",
       "      <td>(M, P, P, A, P, H, P, I, P, G, R, A, Q, S, F, ...</td>\n",
       "      <td>MPPAPHPIPGRAQSFHPHATPRGDRVTIRWRAGAWTIRGGVDGQPA...</td>\n",
       "    </tr>\n",
       "    <tr>\n",
       "      <th>mG.JGI.198659_00.fna.gz_Ga0311332_10001683_3</th>\n",
       "      <td>(M, P, P, A, P, H, P, I, P, G, R, A, Q, S, F, ...</td>\n",
       "      <td>MPPAPHPIPGRAQSFHPHATPRGDRVTIRWRAGAWTIRGGVDGQPA...</td>\n",
       "    </tr>\n",
       "    <tr>\n",
       "      <th>mG.JGI.198659_00.fna.gz_Ga0311332_10001683_3</th>\n",
       "      <td>(M, P, P, A, P, H, P, I, P, G, R, A, Q, S, F, ...</td>\n",
       "      <td>MPPAPHPIPGRAQSFHPHATPRGDRVTIRWRAGAWTIRGGVDGQPA...</td>\n",
       "    </tr>\n",
       "  </tbody>\n",
       "</table>\n",
       "</div>"
      ],
      "text/plain": [
       "                                                                                  SeqRecord:rep   \n",
       "rep                                                                                               \n",
       "mG.JGI.198659_00.fna.gz_Ga0311332_10001683_3  (M, P, P, A, P, H, P, I, P, G, R, A, Q, S, F, ...  \\\n",
       "mG.JGI.198659_00.fna.gz_Ga0311332_10001683_3  (M, P, P, A, P, H, P, I, P, G, R, A, Q, S, F, ...   \n",
       "mG.JGI.198659_00.fna.gz_Ga0311332_10001683_3  (M, P, P, A, P, H, P, I, P, G, R, A, Q, S, F, ...   \n",
       "mG.JGI.198659_00.fna.gz_Ga0311332_10001683_3  (M, P, P, A, P, H, P, I, P, G, R, A, Q, S, F, ...   \n",
       "mG.JGI.198659_00.fna.gz_Ga0311332_10001683_3  (M, P, P, A, P, H, P, I, P, G, R, A, Q, S, F, ...   \n",
       "\n",
       "                                                                                            seq  \n",
       "rep                                                                                              \n",
       "mG.JGI.198659_00.fna.gz_Ga0311332_10001683_3  MPPAPHPIPGRAQSFHPHATPRGDRVTIRWRAGAWTIRGGVDGQPA...  \n",
       "mG.JGI.198659_00.fna.gz_Ga0311332_10001683_3  MPPAPHPIPGRAQSFHPHATPRGDRVTIRWRAGAWTIRGGVDGQPA...  \n",
       "mG.JGI.198659_00.fna.gz_Ga0311332_10001683_3  MPPAPHPIPGRAQSFHPHATPRGDRVTIRWRAGAWTIRGGVDGQPA...  \n",
       "mG.JGI.198659_00.fna.gz_Ga0311332_10001683_3  MPPAPHPIPGRAQSFHPHATPRGDRVTIRWRAGAWTIRGGVDGQPA...  \n",
       "mG.JGI.198659_00.fna.gz_Ga0311332_10001683_3  MPPAPHPIPGRAQSFHPHATPRGDRVTIRWRAGAWTIRGGVDGQPA...  "
      ]
     },
     "execution_count": 2,
     "metadata": {},
     "output_type": "execute_result"
    }
   ],
   "source": [
    "# set_option()\n",
    "df_seqs_rep = pd.read_pickle('../seq_mining/df_seqs_rep.pkl.gz')\n",
    "df_seqs_rep.head(5)"
   ]
  },
  {
   "cell_type": "code",
   "execution_count": 3,
   "id": "e6994c11-7d7c-4202-b971-5a3f38051475",
   "metadata": {
    "execution": {
     "iopub.execute_input": "2024-03-08T14:21:39.483299Z",
     "iopub.status.busy": "2024-03-08T14:21:39.483084Z",
     "iopub.status.idle": "2024-03-08T14:21:39.500645Z",
     "shell.execute_reply": "2024-03-08T14:21:39.499829Z",
     "shell.execute_reply.started": "2024-03-08T14:21:39.483275Z"
    }
   },
   "outputs": [
    {
     "name": "stdout",
     "output_type": "stream",
     "text": [
      "mG.JGI.198659_00.fna.gz_Ga0311332_10001683_3\n",
      "mG.JGI.198659_00.fna.gz_Ga0311332_10001683_3 assembly_id@mG.JGI.198659_00.fna.gz;contig_id@Ga0311332_10001683;CDS_id@mG.JGI.198659_00.fna.gz_Ga0311332_10001683_3;CDS_start@3283;CDS_end@4068;CDS_predict_score@83.7;CDS_strand@-;CDS_phase@0;Predigal_info@ID=3|partial=00|start_type=ATG|rbs_motif=None|rbs_spacer=None|gc_cont=0.670|conf=100.00|score=83.75|cscore=81.87|sscore=1.88|rscore=-1.34|uscore=0.25|tscore=3.63;crispr_id@mG.JGI.198659_00.fna.gz+Ga0311332_10001683+2;crispr_start@78;crispr_end@549;crispr_extend_start@1;crispr_extend_end@20549;repeat_seq@GTCTCCGTCGACGAACATCGACGGCCCCATTGAAGC;n_copies@7;n_repeats@36;n_spacers@36;overlapped_base_count@785 ID=1683_3;partial=00;start_type=ATG;rbs_motif=None;rbs_spacer=None;gc_cont=0.670;HEPN-1@[span=(17, 25),target=HATPRGDR];HEPN-2@[span=(152, 159),target=RQAMHNH];HEPN-count@2\n",
      "MPPAPHPIPGRAQSFHPHATPRGDRVTIRWRAGAWTIRGGVDGQPAATSDIKAAMDEVFGLFPTPFMRAPATLGQPLVARLIAHFTARALHDNNSSGRLSHTEMLRPDDSPMLVEAAGLIAPKLVEFGTTLFGERLPWLLKEMWVNVLDAGGRQAMHNHANSFISGVVYLTRTHPGSQTVFMKSPGGTDFLFKNDHKAMTPNEYCADKWVSPAPDPGDLVLFPSFLMHAVPPNQGERRITLAFNAIPAQLNSWGYVVRFTG*\n"
     ]
    }
   ],
   "source": [
    "for cas in df_seqs_rep[\"SeqRecord:rep\"].tolist():\n",
    "    print(cas.id)\n",
    "    print(cas.description)\n",
    "    print(cas.seq)\n",
    "    break"
   ]
  },
  {
   "cell_type": "code",
   "execution_count": 4,
   "id": "93a3a324-a24e-482e-a491-7cd3b90afe70",
   "metadata": {
    "execution": {
     "iopub.execute_input": "2024-03-08T14:21:39.502467Z",
     "iopub.status.busy": "2024-03-08T14:21:39.502206Z",
     "iopub.status.idle": "2024-03-08T14:21:39.508501Z",
     "shell.execute_reply": "2024-03-08T14:21:39.507950Z",
     "shell.execute_reply.started": "2024-03-08T14:21:39.502445Z"
    }
   },
   "outputs": [
    {
     "data": {
      "text/plain": [
       "(1083489, 2)"
      ]
     },
     "execution_count": 4,
     "metadata": {},
     "output_type": "execute_result"
    }
   ],
   "source": [
    "df_seqs_rep.shape"
   ]
  },
  {
   "cell_type": "code",
   "execution_count": 5,
   "id": "5d0a9d1f-e13d-43d2-beaa-a142339f9432",
   "metadata": {
    "execution": {
     "iopub.execute_input": "2024-03-08T14:21:39.509393Z",
     "iopub.status.busy": "2024-03-08T14:21:39.509198Z",
     "iopub.status.idle": "2024-03-08T14:21:39.659472Z",
     "shell.execute_reply": "2024-03-08T14:21:39.658575Z",
     "shell.execute_reply.started": "2024-03-08T14:21:39.509373Z"
    }
   },
   "outputs": [],
   "source": [
    "df_seqs_rep = df_seqs_rep.reset_index()"
   ]
  },
  {
   "cell_type": "code",
   "execution_count": 6,
   "id": "51b59637-48e7-483e-9ed3-31bc83829b27",
   "metadata": {
    "execution": {
     "iopub.execute_input": "2024-03-08T14:21:39.660588Z",
     "iopub.status.busy": "2024-03-08T14:21:39.660376Z",
     "iopub.status.idle": "2024-03-08T14:21:39.755232Z",
     "shell.execute_reply": "2024-03-08T14:21:39.754544Z",
     "shell.execute_reply.started": "2024-03-08T14:21:39.660566Z"
    }
   },
   "outputs": [
    {
     "name": "stdout",
     "output_type": "stream",
     "text": [
      "去重结束\n"
     ]
    }
   ],
   "source": [
    "df_seqs_rep.drop_duplicates(subset='rep', inplace=True)\n",
    "print(\"去重结束\")"
   ]
  },
  {
   "cell_type": "code",
   "execution_count": 7,
   "id": "4f079114-91a0-4997-819c-06417059f9a3",
   "metadata": {
    "execution": {
     "iopub.execute_input": "2024-03-08T14:21:39.756289Z",
     "iopub.status.busy": "2024-03-08T14:21:39.756021Z",
     "iopub.status.idle": "2024-03-08T14:21:39.760304Z",
     "shell.execute_reply": "2024-03-08T14:21:39.759733Z",
     "shell.execute_reply.started": "2024-03-08T14:21:39.756266Z"
    }
   },
   "outputs": [
    {
     "data": {
      "text/plain": [
       "(226551, 3)"
      ]
     },
     "execution_count": 7,
     "metadata": {},
     "output_type": "execute_result"
    }
   ],
   "source": [
    "df_seqs_rep.shape"
   ]
  },
  {
   "cell_type": "markdown",
   "id": "7af2466d-40dd-435d-9ea1-45de92c4d09e",
   "metadata": {},
   "source": [
    "## 进行拆分"
   ]
  },
  {
   "cell_type": "code",
   "execution_count": 8,
   "id": "7ae5c287-08dd-49b6-a033-c1c255193762",
   "metadata": {
    "execution": {
     "iopub.execute_input": "2024-03-08T14:21:39.761232Z",
     "iopub.status.busy": "2024-03-08T14:21:39.761029Z",
     "iopub.status.idle": "2024-03-08T14:21:44.743676Z",
     "shell.execute_reply": "2024-03-08T14:21:44.742611Z",
     "shell.execute_reply.started": "2024-03-08T14:21:39.761210Z"
    }
   },
   "outputs": [
    {
     "data": {
      "application/vnd.jupyter.widget-view+json": {
       "model_id": "c02adc951506491182583dd8d821a0a0",
       "version_major": 2,
       "version_minor": 0
      },
      "text/plain": [
       "  0%|          | 0/226551 [00:00<?, ?it/s]"
      ]
     },
     "metadata": {},
     "output_type": "display_data"
    },
    {
     "ename": "NameError",
     "evalue": "name 'handler' is not defined",
     "output_type": "error",
     "traceback": [
      "\u001b[0;31m---------------------------------------------------------------------------\u001b[0m",
      "\u001b[0;31mNameError\u001b[0m                                 Traceback (most recent call last)",
      "Cell \u001b[0;32mIn[8], line 24\u001b[0m\n\u001b[1;32m     19\u001b[0m     handler_out \u001b[38;5;241m=\u001b[39m gzip\u001b[38;5;241m.\u001b[39mopen(filename, \u001b[38;5;124m'\u001b[39m\u001b[38;5;124mwt\u001b[39m\u001b[38;5;124m'\u001b[39m) \u001b[38;5;28;01mif\u001b[39;00m filename\u001b[38;5;241m.\u001b[39mendswith(\u001b[38;5;124m\"\u001b[39m\u001b[38;5;124m.gz\u001b[39m\u001b[38;5;124m\"\u001b[39m) \u001b[38;5;28;01melse\u001b[39;00m \u001b[38;5;28mopen\u001b[39m(filename, \u001b[38;5;124m'\u001b[39m\u001b[38;5;124mwt\u001b[39m\u001b[38;5;124m'\u001b[39m)\n\u001b[1;32m     20\u001b[0m     SeqIO\u001b[38;5;241m.\u001b[39mwrite(contig, handler_out, \u001b[38;5;124m\"\u001b[39m\u001b[38;5;124mfasta\u001b[39m\u001b[38;5;124m\"\u001b[39m)\n\u001b[0;32m---> 24\u001b[0m \u001b[43mhandler\u001b[49m\u001b[38;5;241m.\u001b[39mclose()\n\u001b[1;32m     25\u001b[0m handler_out\u001b[38;5;241m.\u001b[39mclose()\n\u001b[1;32m     26\u001b[0m \u001b[38;5;28mprint\u001b[39m(\u001b[38;5;124m\"\u001b[39m\u001b[38;5;124mok\u001b[39m\u001b[38;5;124m\"\u001b[39m)\n",
      "\u001b[0;31mNameError\u001b[0m: name 'handler' is not defined"
     ]
    }
   ],
   "source": [
    "# 创建临时储存的文件夹\n",
    "temp = \"../blast_info/fasta_split\"\n",
    "os.makedirs(temp, exist_ok=True)\n",
    "# 输入fasta文件\n",
    "# fa_input = \"../blast_info/test/known_cas13s.faa.gz\n",
    "# handler = gzip.open(fa_input, \"rt\") if fa_input.endswith(\".gz\") else open(fa_input, \"rt\")\n",
    "# contigs_input = SeqIO.parse(handler, \"fasta\")\n",
    "# for contig in contigs_input:\n",
    "for contig in tqdm(df_seqs_rep[\"SeqRecord:rep\"].tolist()):\n",
    "    # print(contig.id)\n",
    "    # print(contig.seq)\n",
    "    contig_id = contig.id\n",
    "    filename = f\"{temp}/{contig_id}.fasta\"\n",
    "    # 检查文件是否存在\n",
    "    if os.path.exists(filename):\n",
    "        # print(f\"{filename} exists , skip ......\")\n",
    "        continue\n",
    "    # print(filename)\n",
    "    handler_out = gzip.open(filename, 'wt') if filename.endswith(\".gz\") else open(filename, 'wt')\n",
    "    SeqIO.write(contig, handler_out, \"fasta\")\n",
    "\n",
    "\n",
    "\n",
    "handler.close()\n",
    "handler_out.close()\n",
    "print(\"ok\")"
   ]
  },
  {
   "cell_type": "markdown",
   "id": "10bf267c-4465-4f30-a940-eae157849a6c",
   "metadata": {},
   "source": [
    "## 得到需要操作的文件名"
   ]
  },
  {
   "cell_type": "code",
   "execution_count": null,
   "id": "cbd070fe-e8bf-4af8-a8a1-3960b9b757ff",
   "metadata": {},
   "outputs": [],
   "source": []
  }
 ],
 "metadata": {
  "kernelspec": {
   "display_name": "Python 3 (ipykernel)",
   "language": "python",
   "name": "python3"
  },
  "language_info": {
   "codemirror_mode": {
    "name": "ipython",
    "version": 3
   },
   "file_extension": ".py",
   "mimetype": "text/x-python",
   "name": "python",
   "nbconvert_exporter": "python",
   "pygments_lexer": "ipython3",
   "version": "3.10.11"
  },
  "widgets": {
   "application/vnd.jupyter.widget-state+json": {
    "state": {
     "17c121b8932944249be99197148b50d3": {
      "model_module": "@jupyter-widgets/base",
      "model_module_version": "2.0.0",
      "model_name": "LayoutModel",
      "state": {}
     },
     "4f4a7749bc8040e7bdd15f8507f0a941": {
      "model_module": "@jupyter-widgets/base",
      "model_module_version": "2.0.0",
      "model_name": "LayoutModel",
      "state": {}
     },
     "543186c660754cc280b6c112a4ebacdf": {
      "model_module": "@jupyter-widgets/controls",
      "model_module_version": "2.0.0",
      "model_name": "FloatProgressModel",
      "state": {
       "bar_style": "success",
       "layout": "IPY_MODEL_fd374342d6504f1cb328f80be63e8199",
       "max": 226551,
       "style": "IPY_MODEL_759c01a8e460464bbee5c993fc9fb3de",
       "value": 226551
      }
     },
     "759c01a8e460464bbee5c993fc9fb3de": {
      "model_module": "@jupyter-widgets/controls",
      "model_module_version": "2.0.0",
      "model_name": "ProgressStyleModel",
      "state": {
       "description_width": ""
      }
     },
     "97f763ca8c074118b44bbb806df45cb6": {
      "model_module": "@jupyter-widgets/controls",
      "model_module_version": "2.0.0",
      "model_name": "HTMLStyleModel",
      "state": {
       "description_width": "",
       "font_size": null,
       "text_color": null
      }
     },
     "b789efc5c2f243b1bc1358bd30721aed": {
      "model_module": "@jupyter-widgets/base",
      "model_module_version": "2.0.0",
      "model_name": "LayoutModel",
      "state": {}
     },
     "ba75834ed839460baf780e433b3406cf": {
      "model_module": "@jupyter-widgets/controls",
      "model_module_version": "2.0.0",
      "model_name": "HTMLModel",
      "state": {
       "layout": "IPY_MODEL_17c121b8932944249be99197148b50d3",
       "style": "IPY_MODEL_bf327077451343d3bc13be73137a9efd",
       "value": " 226551/226551 [00:04&lt;00:00, 51187.00it/s]"
      }
     },
     "bf327077451343d3bc13be73137a9efd": {
      "model_module": "@jupyter-widgets/controls",
      "model_module_version": "2.0.0",
      "model_name": "HTMLStyleModel",
      "state": {
       "description_width": "",
       "font_size": null,
       "text_color": null
      }
     },
     "c02adc951506491182583dd8d821a0a0": {
      "model_module": "@jupyter-widgets/controls",
      "model_module_version": "2.0.0",
      "model_name": "HBoxModel",
      "state": {
       "children": [
        "IPY_MODEL_f7c08583d3614dea929a21aa7bb9b774",
        "IPY_MODEL_543186c660754cc280b6c112a4ebacdf",
        "IPY_MODEL_ba75834ed839460baf780e433b3406cf"
       ],
       "layout": "IPY_MODEL_4f4a7749bc8040e7bdd15f8507f0a941"
      }
     },
     "f7c08583d3614dea929a21aa7bb9b774": {
      "model_module": "@jupyter-widgets/controls",
      "model_module_version": "2.0.0",
      "model_name": "HTMLModel",
      "state": {
       "layout": "IPY_MODEL_b789efc5c2f243b1bc1358bd30721aed",
       "style": "IPY_MODEL_97f763ca8c074118b44bbb806df45cb6",
       "value": "100%"
      }
     },
     "fd374342d6504f1cb328f80be63e8199": {
      "model_module": "@jupyter-widgets/base",
      "model_module_version": "2.0.0",
      "model_name": "LayoutModel",
      "state": {}
     }
    },
    "version_major": 2,
    "version_minor": 0
   }
  }
 },
 "nbformat": 4,
 "nbformat_minor": 5
}
