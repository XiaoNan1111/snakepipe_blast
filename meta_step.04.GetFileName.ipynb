{
 "cells": [
  {
   "cell_type": "markdown",
   "metadata": {
    "tags": []
   },
   "source": [
    "  # meta_step.04.GetFileName_BlastAnnotation\n",
    "  ## - author:Xiao Nan\n",
    "  ## - begin date: 2024.3.11"
   ]
  },
  {
   "cell_type": "code",
   "execution_count": 14,
   "metadata": {
    "tags": []
   },
   "outputs": [],
   "source": [
    "import json\n",
    "import glob\n",
    "from tqdm.notebook import tqdm"
   ]
  },
  {
   "cell_type": "markdown",
   "metadata": {},
   "source": [
    "## 参数设置"
   ]
  },
  {
   "cell_type": "code",
   "execution_count": 15,
   "metadata": {
    "tags": []
   },
   "outputs": [],
   "source": [
    "THREADS=250"
   ]
  },
  {
   "cell_type": "markdown",
   "metadata": {},
   "source": [
    "## 生成samples.json"
   ]
  },
  {
   "cell_type": "code",
   "execution_count": 16,
   "metadata": {},
   "outputs": [
    {
     "name": "stdout",
     "output_type": "stream",
     "text": [
      "227\n"
     ]
    },
    {
     "data": {
      "text/plain": [
       "['../blast_info/fasta_split_1000/batch_1.fasta',\n",
       " '../blast_info/fasta_split_1000/batch_10.fasta',\n",
       " '../blast_info/fasta_split_1000/batch_100.fasta',\n",
       " '../blast_info/fasta_split_1000/batch_101.fasta',\n",
       " '../blast_info/fasta_split_1000/batch_102.fasta',\n",
       " '../blast_info/fasta_split_1000/batch_103.fasta',\n",
       " '../blast_info/fasta_split_1000/batch_104.fasta',\n",
       " '../blast_info/fasta_split_1000/batch_105.fasta',\n",
       " '../blast_info/fasta_split_1000/batch_106.fasta',\n",
       " '../blast_info/fasta_split_1000/batch_107.fasta']"
      ]
     },
     "execution_count": 16,
     "metadata": {},
     "output_type": "execute_result"
    }
   ],
   "source": [
    "ls = glob.glob(\"../blast_info/fasta_split_1000/*.fasta\")\n",
    "ls.sort()\n",
    "print(len(ls))\n",
    "ls[:10]"
   ]
  },
  {
   "cell_type": "code",
   "execution_count": 17,
   "metadata": {},
   "outputs": [
    {
     "data": {
      "text/plain": [
       "['batch_1',\n",
       " 'batch_10',\n",
       " 'batch_100',\n",
       " 'batch_101',\n",
       " 'batch_102',\n",
       " 'batch_103',\n",
       " 'batch_104',\n",
       " 'batch_105',\n",
       " 'batch_106',\n",
       " 'batch_107']"
      ]
     },
     "execution_count": 17,
     "metadata": {},
     "output_type": "execute_result"
    }
   ],
   "source": [
    "ls_sample = [i.split(\"/\")[-1].split(\".fasta\")[0] for i in ls]\n",
    "ls_sample[:10]"
   ]
  },
  {
   "cell_type": "code",
   "execution_count": 18,
   "metadata": {},
   "outputs": [],
   "source": [
    "dt = {\"samples\": ls_sample, \"thread\": THREADS}"
   ]
  },
  {
   "cell_type": "code",
   "execution_count": 19,
   "metadata": {},
   "outputs": [
    {
     "name": "stdout",
     "output_type": "stream",
     "text": [
      "Success execute\n"
     ]
    }
   ],
   "source": [
    "with open(\"./samples.json\", \"wt\") as f:\n",
    "    f.write(json.dumps(dt))\n",
    "    print(\"Success execute\")"
   ]
  }
 ],
 "metadata": {
  "kernelspec": {
   "display_name": "Python 3 (ipykernel)",
   "language": "python",
   "name": "python3"
  },
  "language_info": {
   "codemirror_mode": {
    "name": "ipython",
    "version": 3
   },
   "file_extension": ".py",
   "mimetype": "text/x-python",
   "name": "python",
   "nbconvert_exporter": "python",
   "pygments_lexer": "ipython3",
   "version": "3.10.11"
  },
  "widgets": {
   "application/vnd.jupyter.widget-state+json": {
    "state": {},
    "version_major": 2,
    "version_minor": 0
   }
  }
 },
 "nbformat": 4,
 "nbformat_minor": 4
}
